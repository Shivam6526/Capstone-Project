{
 "cells": [
  {
   "cell_type": "markdown",
   "metadata": {},
   "source": [
    "# Data Gathering\n",
    "\n",
    "    1. Immigration data has been put into one S3 folder named - s3://capstone-project-immigration-data/source-data/\n",
    "    2. Data has been taken from the Project resources only, total count is ~ 3mn rows"
   ]
  },
  {
   "cell_type": "code",
   "execution_count": 1,
   "metadata": {},
   "outputs": [
    {
     "data": {
      "application/vnd.jupyter.widget-view+json": {
       "model_id": "5c24ce34755a44cc85652734e5b25ca4",
       "version_major": 2,
       "version_minor": 0
      },
      "text/plain": [
       "VBox()"
      ]
     },
     "metadata": {},
     "output_type": "display_data"
    },
    {
     "name": "stdout",
     "output_type": "stream",
     "text": [
      "Starting Spark application\n"
     ]
    },
    {
     "data": {
      "text/html": [
       "<table>\n",
       "<tr><th>ID</th><th>YARN Application ID</th><th>Kind</th><th>State</th><th>Spark UI</th><th>Driver log</th><th>Current session?</th></tr><tr><td>0</td><td>application_1609493017809_0001</td><td>pyspark</td><td>idle</td><td><a target=\"_blank\" href=\"http://ip-172-31-1-12.us-east-2.compute.internal:20888/proxy/application_1609493017809_0001/\">Link</a></td><td><a target=\"_blank\" href=\"http://ip-172-31-1-45.us-east-2.compute.internal:8042/node/containerlogs/container_1609493017809_0001_01_000001/livy\">Link</a></td><td>✔</td></tr></table>"
      ],
      "text/plain": [
       "<IPython.core.display.HTML object>"
      ]
     },
     "metadata": {},
     "output_type": "display_data"
    },
    {
     "data": {
      "application/vnd.jupyter.widget-view+json": {
       "model_id": "",
       "version_major": 2,
       "version_minor": 0
      },
      "text/plain": [
       "FloatProgress(value=0.0, bar_style='info', description='Progress:', layout=Layout(height='25px', width='50%'),…"
      ]
     },
     "metadata": {},
     "output_type": "display_data"
    },
    {
     "name": "stdout",
     "output_type": "stream",
     "text": [
      "SparkSession available as 'spark'.\n"
     ]
    },
    {
     "data": {
      "application/vnd.jupyter.widget-view+json": {
       "model_id": "",
       "version_major": 2,
       "version_minor": 0
      },
      "text/plain": [
       "FloatProgress(value=0.0, bar_style='info', description='Progress:', layout=Layout(height='25px', width='50%'),…"
      ]
     },
     "metadata": {},
     "output_type": "display_data"
    }
   ],
   "source": [
    "df = spark.read.parquet('s3://capstone-project-immigration-data/source-data/')"
   ]
  },
  {
   "cell_type": "code",
   "execution_count": 2,
   "metadata": {},
   "outputs": [
    {
     "data": {
      "application/vnd.jupyter.widget-view+json": {
       "model_id": "09cc3e46d554439696f3a57782bbda89",
       "version_major": 2,
       "version_minor": 0
      },
      "text/plain": [
       "VBox()"
      ]
     },
     "metadata": {},
     "output_type": "display_data"
    },
    {
     "data": {
      "application/vnd.jupyter.widget-view+json": {
       "model_id": "",
       "version_major": 2,
       "version_minor": 0
      },
      "text/plain": [
       "FloatProgress(value=0.0, bar_style='info', description='Progress:', layout=Layout(height='25px', width='50%'),…"
      ]
     },
     "metadata": {},
     "output_type": "display_data"
    },
    {
     "name": "stdout",
     "output_type": "stream",
     "text": [
      "3096313"
     ]
    }
   ],
   "source": [
    "df.count()"
   ]
  },
  {
   "cell_type": "markdown",
   "metadata": {},
   "source": [
    "# Data Assessment"
   ]
  },
  {
   "cell_type": "code",
   "execution_count": 4,
   "metadata": {},
   "outputs": [
    {
     "data": {
      "application/vnd.jupyter.widget-view+json": {
       "model_id": "c92afe2ab3154120b7d8be046442589a",
       "version_major": 2,
       "version_minor": 0
      },
      "text/plain": [
       "VBox()"
      ]
     },
     "metadata": {},
     "output_type": "display_data"
    },
    {
     "data": {
      "application/vnd.jupyter.widget-view+json": {
       "model_id": "",
       "version_major": 2,
       "version_minor": 0
      },
      "text/plain": [
       "FloatProgress(value=0.0, bar_style='info', description='Progress:', layout=Layout(height='25px', width='50%'),…"
      ]
     },
     "metadata": {},
     "output_type": "display_data"
    },
    {
     "name": "stdout",
     "output_type": "stream",
     "text": [
      "+---------+------+------+------+------+-------+-------+-------+-------+-------+------+-------+-----+--------+--------+-----+-------+-------+-------+-------+-------+--------+------+------+-------+--------------+-----+--------+\n",
      "|    cicid| i94yr|i94mon|i94cit|i94res|i94port|arrdate|i94mode|i94addr|depdate|i94bir|i94visa|count|dtadfile|visapost|occup|entdepa|entdepd|entdepu|matflag|biryear| dtaddto|gender|insnum|airline|        admnum|fltno|visatype|\n",
      "+---------+------+------+------+------+-------+-------+-------+-------+-------+------+-------+-----+--------+--------+-----+-------+-------+-------+-------+-------+--------+------+------+-------+--------------+-----+--------+\n",
      "|5748517.0|2016.0|   4.0| 245.0| 438.0|    LOS|20574.0|    1.0|     CA|20582.0|  40.0|    1.0|  1.0|20160430|     SYD| null|      G|      O|   null|      M| 1976.0|10292016|     F|  null|     QF|9.495387003E10|00011|      B1|\n",
      "|5748518.0|2016.0|   4.0| 245.0| 438.0|    LOS|20574.0|    1.0|     NV|20591.0|  32.0|    1.0|  1.0|20160430|     SYD| null|      G|      O|   null|      M| 1984.0|10292016|     F|  null|     VA|9.495562283E10|00007|      B1|\n",
      "|5748519.0|2016.0|   4.0| 245.0| 438.0|    LOS|20574.0|    1.0|     WA|20582.0|  29.0|    1.0|  1.0|20160430|     SYD| null|      G|      O|   null|      M| 1987.0|10292016|     M|  null|     DL|9.495640653E10|00040|      B1|\n",
      "|5748520.0|2016.0|   4.0| 245.0| 438.0|    LOS|20574.0|    1.0|     WA|20588.0|  29.0|    1.0|  1.0|20160430|     SYD| null|      G|      O|   null|      M| 1987.0|10292016|     F|  null|     DL|9.495645143E10|00040|      B1|\n",
      "|5748521.0|2016.0|   4.0| 245.0| 438.0|    LOS|20574.0|    1.0|     WA|20588.0|  28.0|    1.0|  1.0|20160430|     SYD| null|      G|      O|   null|      M| 1988.0|10292016|     M|  null|     DL|9.495638813E10|00040|      B1|\n",
      "|5748522.0|2016.0|   4.0| 245.0| 464.0|    HHW|20574.0|    1.0|     HI|20579.0|  57.0|    2.0|  1.0|20160430|     ACK| null|      G|      O|   null|      M| 1959.0|10292016|     M|  null|     NZ|9.498180283E10|00010|      B2|\n",
      "|5748523.0|2016.0|   4.0| 245.0| 464.0|    HHW|20574.0|    1.0|     HI|20586.0|  66.0|    2.0|  1.0|20160430|     ACK| null|      G|      O|   null|      M| 1950.0|10292016|     F|  null|     NZ|9.497968993E10|00010|      B2|\n",
      "|5748524.0|2016.0|   4.0| 245.0| 464.0|    HHW|20574.0|    1.0|     HI|20586.0|  41.0|    2.0|  1.0|20160430|     ACK| null|      G|      O|   null|      M| 1975.0|10292016|     F|  null|     NZ|9.497974673E10|00010|      B2|\n",
      "|5748525.0|2016.0|   4.0| 245.0| 464.0|    HOU|20574.0|    1.0|     FL|20581.0|  27.0|    2.0|  1.0|20160430|     ACK| null|      G|      O|   null|      M| 1989.0|10292016|     M|  null|     NZ|9.497324663E10|00028|      B2|\n",
      "|5748526.0|2016.0|   4.0| 245.0| 464.0|    LOS|20574.0|    1.0|     CA|20581.0|  26.0|    2.0|  1.0|20160430|     ACK| null|      G|      O|   null|      M| 1990.0|10292016|     F|  null|     NZ|9.501354793E10|00002|      B2|\n",
      "+---------+------+------+------+------+-------+-------+-------+-------+-------+------+-------+-----+--------+--------+-----+-------+-------+-------+-------+-------+--------+------+------+-------+--------------+-----+--------+\n",
      "only showing top 10 rows"
     ]
    }
   ],
   "source": [
    "df.show(10)"
   ]
  },
  {
   "cell_type": "markdown",
   "metadata": {},
   "source": [
    "# Data Quality Issues identified:\n",
    "\n",
    "    1. column names i94yr, i94mon are not very sound, they need to be changed to more meaningful names\n",
    "    2. missing values in i94addr column - code '99' can be filled for missing values\n",
    "    3. format for arrdate and depdate columns are of SAS format which is unreadable\n",
    "    4. i94yr and biryear columns should be of proper int type\n",
    "    5. missing values in gender and airline columns\n",
    "    6. number values in mode is not very informative - based on the code, an extra column with name of mode of arrival should          be added"
   ]
  },
  {
   "cell_type": "markdown",
   "metadata": {},
   "source": [
    "Define"
   ]
  },
  {
   "cell_type": "markdown",
   "metadata": {},
   "source": [
    "# Data Cleaning - correcting SAS data format to normal data format"
   ]
  },
  {
   "cell_type": "markdown",
   "metadata": {},
   "source": [
    "Code"
   ]
  },
  {
   "cell_type": "code",
   "execution_count": 27,
   "metadata": {},
   "outputs": [
    {
     "data": {
      "application/vnd.jupyter.widget-view+json": {
       "model_id": "9852ef134e444fb5aea2e73bb4c87a09",
       "version_major": 2,
       "version_minor": 0
      },
      "text/plain": [
       "VBox()"
      ]
     },
     "metadata": {},
     "output_type": "display_data"
    },
    {
     "data": {
      "application/vnd.jupyter.widget-view+json": {
       "model_id": "",
       "version_major": 2,
       "version_minor": 0
      },
      "text/plain": [
       "FloatProgress(value=0.0, bar_style='info', description='Progress:', layout=Layout(height='25px', width='50%'),…"
      ]
     },
     "metadata": {},
     "output_type": "display_data"
    },
    {
     "name": "stdout",
     "output_type": "stream",
     "text": [
      "+---------+------+------+------+------+-------+-------+-------+-------+-------+------+-------+-----+--------+--------+-----+-------+-------+-------+-------+-------+--------+------+------+-------+--------------+-----+--------+------------+--------------+\n",
      "|    cicid| i94yr|i94mon|i94cit|i94res|i94port|arrdate|i94mode|i94addr|depdate|i94bir|i94visa|count|dtadfile|visapost|occup|entdepa|entdepd|entdepu|matflag|biryear| dtaddto|gender|insnum|airline|        admnum|fltno|visatype|arrival_date|departure_date|\n",
      "+---------+------+------+------+------+-------+-------+-------+-------+-------+------+-------+-----+--------+--------+-----+-------+-------+-------+-------+-------+--------+------+------+-------+--------------+-----+--------+------------+--------------+\n",
      "|5748517.0|2016.0|   4.0| 245.0| 438.0|    LOS|20574.0|    1.0|     CA|20582.0|  40.0|    1.0|  1.0|20160430|     SYD| null|      G|      O|   null|      M| 1976.0|10292016|     F|  null|     QF|9.495387003E10|00011|      B1|  2016-04-30|    2016-05-08|\n",
      "|5748518.0|2016.0|   4.0| 245.0| 438.0|    LOS|20574.0|    1.0|     NV|20591.0|  32.0|    1.0|  1.0|20160430|     SYD| null|      G|      O|   null|      M| 1984.0|10292016|     F|  null|     VA|9.495562283E10|00007|      B1|  2016-04-30|    2016-05-17|\n",
      "|5748519.0|2016.0|   4.0| 245.0| 438.0|    LOS|20574.0|    1.0|     WA|20582.0|  29.0|    1.0|  1.0|20160430|     SYD| null|      G|      O|   null|      M| 1987.0|10292016|     M|  null|     DL|9.495640653E10|00040|      B1|  2016-04-30|    2016-05-08|\n",
      "|5748520.0|2016.0|   4.0| 245.0| 438.0|    LOS|20574.0|    1.0|     WA|20588.0|  29.0|    1.0|  1.0|20160430|     SYD| null|      G|      O|   null|      M| 1987.0|10292016|     F|  null|     DL|9.495645143E10|00040|      B1|  2016-04-30|    2016-05-14|\n",
      "|5748521.0|2016.0|   4.0| 245.0| 438.0|    LOS|20574.0|    1.0|     WA|20588.0|  28.0|    1.0|  1.0|20160430|     SYD| null|      G|      O|   null|      M| 1988.0|10292016|     M|  null|     DL|9.495638813E10|00040|      B1|  2016-04-30|    2016-05-14|\n",
      "|5748522.0|2016.0|   4.0| 245.0| 464.0|    HHW|20574.0|    1.0|     HI|20579.0|  57.0|    2.0|  1.0|20160430|     ACK| null|      G|      O|   null|      M| 1959.0|10292016|     M|  null|     NZ|9.498180283E10|00010|      B2|  2016-04-30|    2016-05-05|\n",
      "|5748523.0|2016.0|   4.0| 245.0| 464.0|    HHW|20574.0|    1.0|     HI|20586.0|  66.0|    2.0|  1.0|20160430|     ACK| null|      G|      O|   null|      M| 1950.0|10292016|     F|  null|     NZ|9.497968993E10|00010|      B2|  2016-04-30|    2016-05-12|\n",
      "|5748524.0|2016.0|   4.0| 245.0| 464.0|    HHW|20574.0|    1.0|     HI|20586.0|  41.0|    2.0|  1.0|20160430|     ACK| null|      G|      O|   null|      M| 1975.0|10292016|     F|  null|     NZ|9.497974673E10|00010|      B2|  2016-04-30|    2016-05-12|\n",
      "|5748525.0|2016.0|   4.0| 245.0| 464.0|    HOU|20574.0|    1.0|     FL|20581.0|  27.0|    2.0|  1.0|20160430|     ACK| null|      G|      O|   null|      M| 1989.0|10292016|     M|  null|     NZ|9.497324663E10|00028|      B2|  2016-04-30|    2016-05-07|\n",
      "|5748526.0|2016.0|   4.0| 245.0| 464.0|    LOS|20574.0|    1.0|     CA|20581.0|  26.0|    2.0|  1.0|20160430|     ACK| null|      G|      O|   null|      M| 1990.0|10292016|     F|  null|     NZ|9.501354793E10|00002|      B2|  2016-04-30|    2016-05-07|\n",
      "+---------+------+------+------+------+-------+-------+-------+-------+-------+------+-------+-----+--------+--------+-----+-------+-------+-------+-------+-------+--------+------+------+-------+--------------+-----+--------+------------+--------------+\n",
      "only showing top 10 rows"
     ]
    }
   ],
   "source": [
    "from datetime import datetime, timedelta\n",
    "from pyspark.sql import types as T\n",
    "from pyspark.sql.types import StringType\n",
    "from pyspark.sql.functions import udf\n",
    "\n",
    "def convert_datetime(x):\n",
    "    try:\n",
    "        start = datetime(1960, 1, 1)\n",
    "        return start + timedelta(days=int(x))\n",
    "    except:\n",
    "        return None\n",
    "    \n",
    "udf_datetime_from_sas = udf(lambda x: convert_datetime(x), T.DateType())\n",
    "\n",
    "df_new = df.withColumn(\"arrival_date\", udf_datetime_from_sas(\"arrdate\")) \\\n",
    "    .withColumn(\"departure_date\", udf_datetime_from_sas(\"depdate\"))\n",
    "\n",
    "# Test\n",
    "df_new.show(10)"
   ]
  },
  {
   "cell_type": "markdown",
   "metadata": {},
   "source": [
    "Define"
   ]
  },
  {
   "cell_type": "markdown",
   "metadata": {},
   "source": [
    "# Correcting the data type by casting the columns to appropriate types"
   ]
  },
  {
   "cell_type": "markdown",
   "metadata": {},
   "source": [
    "Code"
   ]
  },
  {
   "cell_type": "code",
   "execution_count": 32,
   "metadata": {},
   "outputs": [
    {
     "data": {
      "application/vnd.jupyter.widget-view+json": {
       "model_id": "96db7302f937425b89ab6f98f97bc89c",
       "version_major": 2,
       "version_minor": 0
      },
      "text/plain": [
       "VBox()"
      ]
     },
     "metadata": {},
     "output_type": "display_data"
    },
    {
     "data": {
      "application/vnd.jupyter.widget-view+json": {
       "model_id": "",
       "version_major": 2,
       "version_minor": 0
      },
      "text/plain": [
       "FloatProgress(value=0.0, bar_style='info', description='Progress:', layout=Layout(height='25px', width='50%'),…"
      ]
     },
     "metadata": {},
     "output_type": "display_data"
    },
    {
     "name": "stdout",
     "output_type": "stream",
     "text": [
      "+-------+----+---------+---------+--------+-------+-------+--------------------+-------+-------+------+-------+-----+--------+--------+-----+-------+-------+-------+-------+----------+--------+------+------+-------+--------------+-----+--------+------------+--------------+\n",
      "|  cicid|year|month_num|city_code|res_code|port_id|arrdate|mode_of_arrival_code|i94addr|depdate|i94bir|i94visa|count|dtadfile|visapost|occup|entdepa|entdepd|entdepu|matflag|birth_year| dtaddto|gender|insnum|airline|        admnum|fltno|visatype|arrival_date|departure_date|\n",
      "+-------+----+---------+---------+--------+-------+-------+--------------------+-------+-------+------+-------+-----+--------+--------+-----+-------+-------+-------+-------+----------+--------+------+------+-------+--------------+-----+--------+------------+--------------+\n",
      "|5748517|2016|        4|      245|     438|   null|20574.0|                   1|     CA|20582.0|  40.0|    1.0|  1.0|20160430|     SYD| null|      G|      O|   null|      M|      1976|10292016|     F|  null|     QF|9.495387003E10|00011|      B1|  2016-04-30|    2016-05-08|\n",
      "|5748518|2016|        4|      245|     438|   null|20574.0|                   1|     NV|20591.0|  32.0|    1.0|  1.0|20160430|     SYD| null|      G|      O|   null|      M|      1984|10292016|     F|  null|     VA|9.495562283E10|00007|      B1|  2016-04-30|    2016-05-17|\n",
      "|5748519|2016|        4|      245|     438|   null|20574.0|                   1|     WA|20582.0|  29.0|    1.0|  1.0|20160430|     SYD| null|      G|      O|   null|      M|      1987|10292016|     M|  null|     DL|9.495640653E10|00040|      B1|  2016-04-30|    2016-05-08|\n",
      "|5748520|2016|        4|      245|     438|   null|20574.0|                   1|     WA|20588.0|  29.0|    1.0|  1.0|20160430|     SYD| null|      G|      O|   null|      M|      1987|10292016|     F|  null|     DL|9.495645143E10|00040|      B1|  2016-04-30|    2016-05-14|\n",
      "|5748521|2016|        4|      245|     438|   null|20574.0|                   1|     WA|20588.0|  28.0|    1.0|  1.0|20160430|     SYD| null|      G|      O|   null|      M|      1988|10292016|     M|  null|     DL|9.495638813E10|00040|      B1|  2016-04-30|    2016-05-14|\n",
      "|5748522|2016|        4|      245|     464|   null|20574.0|                   1|     HI|20579.0|  57.0|    2.0|  1.0|20160430|     ACK| null|      G|      O|   null|      M|      1959|10292016|     M|  null|     NZ|9.498180283E10|00010|      B2|  2016-04-30|    2016-05-05|\n",
      "|5748523|2016|        4|      245|     464|   null|20574.0|                   1|     HI|20586.0|  66.0|    2.0|  1.0|20160430|     ACK| null|      G|      O|   null|      M|      1950|10292016|     F|  null|     NZ|9.497968993E10|00010|      B2|  2016-04-30|    2016-05-12|\n",
      "|5748524|2016|        4|      245|     464|   null|20574.0|                   1|     HI|20586.0|  41.0|    2.0|  1.0|20160430|     ACK| null|      G|      O|   null|      M|      1975|10292016|     F|  null|     NZ|9.497974673E10|00010|      B2|  2016-04-30|    2016-05-12|\n",
      "|5748525|2016|        4|      245|     464|   null|20574.0|                   1|     FL|20581.0|  27.0|    2.0|  1.0|20160430|     ACK| null|      G|      O|   null|      M|      1989|10292016|     M|  null|     NZ|9.497324663E10|00028|      B2|  2016-04-30|    2016-05-07|\n",
      "|5748526|2016|        4|      245|     464|   null|20574.0|                   1|     CA|20581.0|  26.0|    2.0|  1.0|20160430|     ACK| null|      G|      O|   null|      M|      1990|10292016|     F|  null|     NZ|9.501354793E10|00002|      B2|  2016-04-30|    2016-05-07|\n",
      "+-------+----+---------+---------+--------+-------+-------+--------------------+-------+-------+------+-------+-----+--------+--------+-----+-------+-------+-------+-------+----------+--------+------+------+-------+--------------+-----+--------+------------+--------------+\n",
      "only showing top 10 rows"
     ]
    }
   ],
   "source": [
    "df_new2 = df_new.selectExpr(\"cast(cicid as int) cicid\",\"cast(i94yr as int) year\",\"cast(i94mon as int) month_num\",\"cast(i94cit as int) city_code\",\"cast(i94res as int) res_code\",\"cast(i94port as int) port_id\",\"arrdate\",\"cast(i94mode as int) mode_of_arrival_code\",\"i94addr\",\"depdate\",\"i94bir\",\"i94visa\",\"count\",\"dtadfile\",\"visapost\",\"occup\",\"entdepa\",\"entdepd\",\"entdepu\",\"matflag\",\"cast(biryear as int) birth_year\",\"dtaddto\",\"gender\",\"insnum\",\"airline\",\"admnum\",\"fltno\",\"visatype\",\"arrival_date\",\"departure_date\")\n",
    "\n",
    "#Test\n",
    "df_new2.show(10)"
   ]
  },
  {
   "cell_type": "markdown",
   "metadata": {},
   "source": [
    "Define"
   ]
  },
  {
   "cell_type": "markdown",
   "metadata": {},
   "source": [
    "# Generating extra column with month name on the basis of month number"
   ]
  },
  {
   "cell_type": "markdown",
   "metadata": {},
   "source": [
    "Code"
   ]
  },
  {
   "cell_type": "code",
   "execution_count": 39,
   "metadata": {},
   "outputs": [
    {
     "data": {
      "application/vnd.jupyter.widget-view+json": {
       "model_id": "d1e6997fa294456fabd409ae7af2e46d",
       "version_major": 2,
       "version_minor": 0
      },
      "text/plain": [
       "VBox()"
      ]
     },
     "metadata": {},
     "output_type": "display_data"
    },
    {
     "data": {
      "application/vnd.jupyter.widget-view+json": {
       "model_id": "",
       "version_major": 2,
       "version_minor": 0
      },
      "text/plain": [
       "FloatProgress(value=0.0, bar_style='info', description='Progress:', layout=Layout(height='25px', width='50%'),…"
      ]
     },
     "metadata": {},
     "output_type": "display_data"
    }
   ],
   "source": [
    "import datetime\n",
    "\n",
    "def month_num_to_name(x):\n",
    "    try:\n",
    "        x = str(x)\n",
    "        datetime_object = datetime.datetime.strptime(x, \"%m\")\n",
    "        month_name = datetime_object.strftime(\"%B\")\n",
    "        return month_name\n",
    "    except:\n",
    "        return None\n",
    "    \n",
    "udf_month_name = udf(lambda x: month_num_to_name(x), T.StringType())\n",
    "\n",
    "df_new3 = df_new2.withColumn('month_name', udf_month_name(\"month_num\"))"
   ]
  },
  {
   "cell_type": "markdown",
   "metadata": {},
   "source": [
    "Test"
   ]
  },
  {
   "cell_type": "code",
   "execution_count": 41,
   "metadata": {},
   "outputs": [
    {
     "data": {
      "application/vnd.jupyter.widget-view+json": {
       "model_id": "60aa2b55bfd44895be04763062086cd8",
       "version_major": 2,
       "version_minor": 0
      },
      "text/plain": [
       "VBox()"
      ]
     },
     "metadata": {},
     "output_type": "display_data"
    },
    {
     "data": {
      "application/vnd.jupyter.widget-view+json": {
       "model_id": "",
       "version_major": 2,
       "version_minor": 0
      },
      "text/plain": [
       "FloatProgress(value=0.0, bar_style='info', description='Progress:', layout=Layout(height='25px', width='50%'),…"
      ]
     },
     "metadata": {},
     "output_type": "display_data"
    },
    {
     "name": "stdout",
     "output_type": "stream",
     "text": [
      "+----------+\n",
      "|month_name|\n",
      "+----------+\n",
      "|     April|\n",
      "+----------+"
     ]
    }
   ],
   "source": [
    "df_new3.select('month_name').distinct().show()"
   ]
  },
  {
   "cell_type": "code",
   "execution_count": 42,
   "metadata": {},
   "outputs": [
    {
     "data": {
      "application/vnd.jupyter.widget-view+json": {
       "model_id": "ee92b2117cd64441bce23672cbe7bba4",
       "version_major": 2,
       "version_minor": 0
      },
      "text/plain": [
       "VBox()"
      ]
     },
     "metadata": {},
     "output_type": "display_data"
    },
    {
     "data": {
      "application/vnd.jupyter.widget-view+json": {
       "model_id": "",
       "version_major": 2,
       "version_minor": 0
      },
      "text/plain": [
       "FloatProgress(value=0.0, bar_style='info', description='Progress:', layout=Layout(height='25px', width='50%'),…"
      ]
     },
     "metadata": {},
     "output_type": "display_data"
    },
    {
     "name": "stdout",
     "output_type": "stream",
     "text": [
      "+-------+----+---------+---------+--------+-------+-------+--------------------+-------+-------+------+-------+-----+--------+--------+-----+-------+-------+-------+-------+----------+--------+------+------+-------+--------------+-----+--------+------------+--------------+----------+\n",
      "|  cicid|year|month_num|city_code|res_code|port_id|arrdate|mode_of_arrival_code|i94addr|depdate|i94bir|i94visa|count|dtadfile|visapost|occup|entdepa|entdepd|entdepu|matflag|birth_year| dtaddto|gender|insnum|airline|        admnum|fltno|visatype|arrival_date|departure_date|month_name|\n",
      "+-------+----+---------+---------+--------+-------+-------+--------------------+-------+-------+------+-------+-----+--------+--------+-----+-------+-------+-------+-------+----------+--------+------+------+-------+--------------+-----+--------+------------+--------------+----------+\n",
      "|5748517|2016|        4|      245|     438|   null|20574.0|                   1|     CA|20582.0|  40.0|    1.0|  1.0|20160430|     SYD| null|      G|      O|   null|      M|      1976|10292016|     F|  null|     QF|9.495387003E10|00011|      B1|  2016-04-30|    2016-05-08|     April|\n",
      "|5748518|2016|        4|      245|     438|   null|20574.0|                   1|     NV|20591.0|  32.0|    1.0|  1.0|20160430|     SYD| null|      G|      O|   null|      M|      1984|10292016|     F|  null|     VA|9.495562283E10|00007|      B1|  2016-04-30|    2016-05-17|     April|\n",
      "|5748519|2016|        4|      245|     438|   null|20574.0|                   1|     WA|20582.0|  29.0|    1.0|  1.0|20160430|     SYD| null|      G|      O|   null|      M|      1987|10292016|     M|  null|     DL|9.495640653E10|00040|      B1|  2016-04-30|    2016-05-08|     April|\n",
      "|5748520|2016|        4|      245|     438|   null|20574.0|                   1|     WA|20588.0|  29.0|    1.0|  1.0|20160430|     SYD| null|      G|      O|   null|      M|      1987|10292016|     F|  null|     DL|9.495645143E10|00040|      B1|  2016-04-30|    2016-05-14|     April|\n",
      "|5748521|2016|        4|      245|     438|   null|20574.0|                   1|     WA|20588.0|  28.0|    1.0|  1.0|20160430|     SYD| null|      G|      O|   null|      M|      1988|10292016|     M|  null|     DL|9.495638813E10|00040|      B1|  2016-04-30|    2016-05-14|     April|\n",
      "|5748522|2016|        4|      245|     464|   null|20574.0|                   1|     HI|20579.0|  57.0|    2.0|  1.0|20160430|     ACK| null|      G|      O|   null|      M|      1959|10292016|     M|  null|     NZ|9.498180283E10|00010|      B2|  2016-04-30|    2016-05-05|     April|\n",
      "|5748523|2016|        4|      245|     464|   null|20574.0|                   1|     HI|20586.0|  66.0|    2.0|  1.0|20160430|     ACK| null|      G|      O|   null|      M|      1950|10292016|     F|  null|     NZ|9.497968993E10|00010|      B2|  2016-04-30|    2016-05-12|     April|\n",
      "|5748524|2016|        4|      245|     464|   null|20574.0|                   1|     HI|20586.0|  41.0|    2.0|  1.0|20160430|     ACK| null|      G|      O|   null|      M|      1975|10292016|     F|  null|     NZ|9.497974673E10|00010|      B2|  2016-04-30|    2016-05-12|     April|\n",
      "|5748525|2016|        4|      245|     464|   null|20574.0|                   1|     FL|20581.0|  27.0|    2.0|  1.0|20160430|     ACK| null|      G|      O|   null|      M|      1989|10292016|     M|  null|     NZ|9.497324663E10|00028|      B2|  2016-04-30|    2016-05-07|     April|\n",
      "|5748526|2016|        4|      245|     464|   null|20574.0|                   1|     CA|20581.0|  26.0|    2.0|  1.0|20160430|     ACK| null|      G|      O|   null|      M|      1990|10292016|     F|  null|     NZ|9.501354793E10|00002|      B2|  2016-04-30|    2016-05-07|     April|\n",
      "+-------+----+---------+---------+--------+-------+-------+--------------------+-------+-------+------+-------+-----+--------+--------+-----+-------+-------+-------+-------+----------+--------+------+------+-------+--------------+-----+--------+------------+--------------+----------+\n",
      "only showing top 10 rows"
     ]
    }
   ],
   "source": [
    "df_new3.na.fill(value='99',subset=[\"i94addr\"]).show(10)"
   ]
  },
  {
   "cell_type": "markdown",
   "metadata": {},
   "source": [
    "Define"
   ]
  },
  {
   "cell_type": "markdown",
   "metadata": {},
   "source": [
    "# Fill null values in i94addr column with '99' as informed in doc"
   ]
  },
  {
   "cell_type": "markdown",
   "metadata": {},
   "source": [
    "Code"
   ]
  },
  {
   "cell_type": "code",
   "execution_count": 44,
   "metadata": {},
   "outputs": [
    {
     "data": {
      "application/vnd.jupyter.widget-view+json": {
       "model_id": "7a165777487145b6a311ee7441738b6e",
       "version_major": 2,
       "version_minor": 0
      },
      "text/plain": [
       "VBox()"
      ]
     },
     "metadata": {},
     "output_type": "display_data"
    },
    {
     "data": {
      "application/vnd.jupyter.widget-view+json": {
       "model_id": "",
       "version_major": 2,
       "version_minor": 0
      },
      "text/plain": [
       "FloatProgress(value=0.0, bar_style='info', description='Progress:', layout=Layout(height='25px', width='50%'),…"
      ]
     },
     "metadata": {},
     "output_type": "display_data"
    },
    {
     "name": "stdout",
     "output_type": "stream",
     "text": [
      "+-------+----+---------+---------+--------+-------+-------+--------------------+-------+-------+------+-------+-----+--------+--------+-----+-------+-------+-------+-------+----------+--------+------+------+-------+---------------+-----+--------+------------+--------------+----------+\n",
      "|  cicid|year|month_num|city_code|res_code|port_id|arrdate|mode_of_arrival_code|i94addr|depdate|i94bir|i94visa|count|dtadfile|visapost|occup|entdepa|entdepd|entdepu|matflag|birth_year| dtaddto|gender|insnum|airline|         admnum|fltno|visatype|arrival_date|departure_date|month_name|\n",
      "+-------+----+---------+---------+--------+-------+-------+--------------------+-------+-------+------+-------+-----+--------+--------+-----+-------+-------+-------+-------+----------+--------+------+------+-------+---------------+-----+--------+------------+--------------+----------+\n",
      "|5925820|2016|        4|      129|     129|   null|20569.0|                   9|     99|   null|  70.0|    2.0|  1.0|20160520|    null| null|      A|   null|   null|   null|      1946|07232016|     M|  3552|   null|4.7116418433E10| null|      WT|  2016-04-25|          null|     April|\n",
      "|5932287|2016|        4|      112|     112|   null|20569.0|                   9|     99|   null|  65.0|    2.0|  1.0|20160524|    null| null|      A|   null|   null|   null|      1951|07232016|     F|  null|   null|9.3548413024E10| null|      WT|  2016-04-25|          null|     April|\n",
      "|5932339|2016|        4|      123|     123|   null|20569.0|                   1|     99|   null|  79.0|    2.0|  1.0|20160524|    null| null|      A|   null|   null|   null|      1937|07232016|     M|  5045|     KL|9.3548447924E10|05923|      WT|  2016-04-25|          null|     April|\n",
      "|5932340|2016|        4|      123|     123|   null|20569.0|                   1|     99|   null|  70.0|    2.0|  1.0|20160524|    null| null|      A|   null|   null|   null|      1946|07232016|     F|  5022|     DL|9.3548469924E10|00513|      WT|  2016-04-25|          null|     April|\n",
      "|5932341|2016|        4|      123|     123|   null|20569.0|                   1|     99|   null|  70.0|    2.0|  1.0|20160524|    null| null|      A|   null|   null|   null|      1946|07232016|     M|  5045|     KL|9.3548445024E10|05923|      WT|  2016-04-25|          null|     April|\n",
      "|5932342|2016|        4|      123|     123|   null|20569.0|                   1|     99|   null|  69.0|    2.0|  1.0|20160524|    null| null|      A|   null|   null|   null|      1947|07232016|     F|  5045|     KL|9.3548443224E10|05923|      WT|  2016-04-25|          null|     April|\n",
      "|5932343|2016|        4|      123|     123|   null|20569.0|                   1|     99|   null|  64.0|    2.0|  1.0|20160524|    null| null|      A|   null|   null|   null|      1952|07232016|     X|  5022|     DL|9.3548471724E10|00513|      WT|  2016-04-25|          null|     April|\n",
      "|5932384|2016|        4|      129|     129|   null|20569.0|                   2|     99|   null|  69.0|    2.0|  1.0|20160524|    null| null|      A|   null|   null|   null|      1947|07222016|     X|  5030|   null|9.3548487224E10| null|      WT|  2016-04-25|          null|     April|\n",
      "|5932389|2016|        4|      129|     464|   null|20569.0|                   2|     99|   null|  44.0|    2.0|  1.0|20160524|    null| null|      A|   null|   null|   null|      1972|07222016|     X|  5030|   null|9.3548401024E10| null|      WT|  2016-04-25|          null|     April|\n",
      "|5932509|2016|        4|      180|     135|   null|20569.0|                   9|     99|   null|  80.0|    2.0|  1.0|20160524|    null| null|      A|   null|   null|   null|      1936|07232016|     F|  5060|   null|9.3548964924E10| null|      WT|  2016-04-25|          null|     April|\n",
      "|5934440|2016|        4|      112|     112|   null|20569.0|                   9|     99|   null|  65.0|    2.0|  1.0|20160527|    null| null|      A|      W|   null|      M|      1951|07232016|     F|  3576|   null|4.7112430033E10| null|      WT|  2016-04-25|          null|     April|\n",
      "|5936212|2016|        4|      104|     104|   null|20571.0|                   9|     99|   null|  38.0|    2.0|  1.0|20160601|    null| null|      A|   null|   null|   null|      1978|07252016|     M|  5043|   null|4.3876372033E10| null|      WT|  2016-04-27|          null|     April|\n",
      "|5936274|2016|        4|      112|     112|   null|20552.0|                   9|     99|   null|  21.0|    2.0|  1.0|20160601|    null| null|      A|   null|   null|   null|      1995|07072016|     M|  3756|   null|5.2052003921E10| null|      WT|  2016-04-08|          null|     April|\n",
      "|5941822|2016|        4|      111|     111|   null|20574.0|                   9|     99|   null|  30.0|    2.0|  1.0|20160606|    null| null|      A|      W|   null|      M|      1986|07282016|     M|  6813|   null|4.4035611833E10| null|      WT|  2016-04-30|          null|     April|\n",
      "|5941823|2016|        4|      111|     111|   null|20574.0|                   9|     99|   null|  30.0|    2.0|  1.0|20160606|    null| null|      A|      W|   null|      M|      1986|07282016|     M|  6813|   null|4.4035700733E10| null|      WT|  2016-04-30|          null|     April|\n",
      "|5942301|2016|        4|      180|     135|   null|20549.0|                   2|     99|   null|  63.0|    2.0|  1.0|20160606|    null| null|      A|   null|   null|   null|      1953|07042016|     M|  3825|   null|7.7453548421E10| null|      WT|  2016-04-05|          null|     April|\n",
      "|5942397|2016|        4|      180|     135|   null|20573.0|                   9|     99|   null|  34.0|    1.0|  1.0|20160606|     BER| null|      A|   null|   null|   null|      1982|10282016|     M|  3820|   null|2.3539789327E10| null|      B1|  2016-04-29|          null|     April|\n",
      "|5953149|2016|        4|      252|     209|   null|20564.0|                   1|     99|   null|  null|    2.0|  1.0|20160610|    null| null|      A|   null|   null|   null|      null|06042016|     F|  3703|     DL|4.7352611333E10|00610|     GMT|  2016-04-20|          null|     April|\n",
      "|5960570|2016|        4|      206|     206|   null|20555.0|                   1|     99|20558.0|  56.0|    2.0|  1.0|20160615|    null| null|      A|      D|   null|      M|      1960|05252016|     F|  3980|     OZ|4.5558818333E10|00625|     GMT|  2016-04-11|    2016-04-14|     April|\n",
      "|5963898|2016|        4|      245|     245|   null|20560.0|                   1|     99|   null|  37.0|    2.0|  1.0|20160615|    null| null|      P|   null|   null|   null|      1979|04262016|     M|  3882|     3U|4.1649925173E10|08645|      CP|  2016-04-16|          null|     April|\n",
      "+-------+----+---------+---------+--------+-------+-------+--------------------+-------+-------+------+-------+-----+--------+--------+-----+-------+-------+-------+-------+----------+--------+------+------+-------+---------------+-----+--------+------------+--------------+----------+\n",
      "only showing top 20 rows"
     ]
    }
   ],
   "source": [
    "df_na = df_new3.filter(df_new3.i94addr == '99')\n",
    "df_na.show()"
   ]
  },
  {
   "cell_type": "code",
   "execution_count": 45,
   "metadata": {},
   "outputs": [
    {
     "data": {
      "application/vnd.jupyter.widget-view+json": {
       "model_id": "94fee7e853974de1b0fb2b9dba098699",
       "version_major": 2,
       "version_minor": 0
      },
      "text/plain": [
       "VBox()"
      ]
     },
     "metadata": {},
     "output_type": "display_data"
    },
    {
     "data": {
      "application/vnd.jupyter.widget-view+json": {
       "model_id": "",
       "version_major": 2,
       "version_minor": 0
      },
      "text/plain": [
       "FloatProgress(value=0.0, bar_style='info', description='Progress:', layout=Layout(height='25px', width='50%'),…"
      ]
     },
     "metadata": {},
     "output_type": "display_data"
    },
    {
     "name": "stdout",
     "output_type": "stream",
     "text": [
      "52"
     ]
    }
   ],
   "source": [
    "df_na.count()"
   ]
  },
  {
   "cell_type": "code",
   "execution_count": 48,
   "metadata": {},
   "outputs": [
    {
     "data": {
      "application/vnd.jupyter.widget-view+json": {
       "model_id": "56a994c8f9a24427a35df6985805a9ef",
       "version_major": 2,
       "version_minor": 0
      },
      "text/plain": [
       "VBox()"
      ]
     },
     "metadata": {},
     "output_type": "display_data"
    },
    {
     "data": {
      "application/vnd.jupyter.widget-view+json": {
       "model_id": "",
       "version_major": 2,
       "version_minor": 0
      },
      "text/plain": [
       "FloatProgress(value=0.0, bar_style='info', description='Progress:', layout=Layout(height='25px', width='50%'),…"
      ]
     },
     "metadata": {},
     "output_type": "display_data"
    },
    {
     "name": "stdout",
     "output_type": "stream",
     "text": [
      "+-------+----+---------+---------+--------+-------+-------+--------------------+-------+-------+------+-------+-----+--------+--------+-----+-------+-------+-------+-------+----------+--------+------+------+-------+--------------+-----+--------+------------+--------------+----------+\n",
      "|  cicid|year|month_num|city_code|res_code|port_id|arrdate|mode_of_arrival_code|i94addr|depdate|i94bir|i94visa|count|dtadfile|visapost|occup|entdepa|entdepd|entdepu|matflag|birth_year| dtaddto|gender|insnum|airline|        admnum|fltno|visatype|arrival_date|departure_date|month_name|\n",
      "+-------+----+---------+---------+--------+-------+-------+--------------------+-------+-------+------+-------+-----+--------+--------+-----+-------+-------+-------+-------+----------+--------+------+------+-------+--------------+-----+--------+------------+--------------+----------+\n",
      "|5748517|2016|        4|      245|     438|   null|20574.0|                   1|     CA|20582.0|  40.0|    1.0|  1.0|20160430|     SYD| null|      G|      O|   null|      M|      1976|10292016|     F|  null|     QF|9.495387003E10|00011|      B1|  2016-04-30|    2016-05-08|     April|\n",
      "|5748518|2016|        4|      245|     438|   null|20574.0|                   1|     NV|20591.0|  32.0|    1.0|  1.0|20160430|     SYD| null|      G|      O|   null|      M|      1984|10292016|     F|  null|     VA|9.495562283E10|00007|      B1|  2016-04-30|    2016-05-17|     April|\n",
      "|5748519|2016|        4|      245|     438|   null|20574.0|                   1|     WA|20582.0|  29.0|    1.0|  1.0|20160430|     SYD| null|      G|      O|   null|      M|      1987|10292016|     M|  null|     DL|9.495640653E10|00040|      B1|  2016-04-30|    2016-05-08|     April|\n",
      "|5748520|2016|        4|      245|     438|   null|20574.0|                   1|     WA|20588.0|  29.0|    1.0|  1.0|20160430|     SYD| null|      G|      O|   null|      M|      1987|10292016|     F|  null|     DL|9.495645143E10|00040|      B1|  2016-04-30|    2016-05-14|     April|\n",
      "|5748521|2016|        4|      245|     438|   null|20574.0|                   1|     WA|20588.0|  28.0|    1.0|  1.0|20160430|     SYD| null|      G|      O|   null|      M|      1988|10292016|     M|  null|     DL|9.495638813E10|00040|      B1|  2016-04-30|    2016-05-14|     April|\n",
      "|5748522|2016|        4|      245|     464|   null|20574.0|                   1|     HI|20579.0|  57.0|    2.0|  1.0|20160430|     ACK| null|      G|      O|   null|      M|      1959|10292016|     M|  null|     NZ|9.498180283E10|00010|      B2|  2016-04-30|    2016-05-05|     April|\n",
      "|5748523|2016|        4|      245|     464|   null|20574.0|                   1|     HI|20586.0|  66.0|    2.0|  1.0|20160430|     ACK| null|      G|      O|   null|      M|      1950|10292016|     F|  null|     NZ|9.497968993E10|00010|      B2|  2016-04-30|    2016-05-12|     April|\n",
      "|5748524|2016|        4|      245|     464|   null|20574.0|                   1|     HI|20586.0|  41.0|    2.0|  1.0|20160430|     ACK| null|      G|      O|   null|      M|      1975|10292016|     F|  null|     NZ|9.497974673E10|00010|      B2|  2016-04-30|    2016-05-12|     April|\n",
      "|5748525|2016|        4|      245|     464|   null|20574.0|                   1|     FL|20581.0|  27.0|    2.0|  1.0|20160430|     ACK| null|      G|      O|   null|      M|      1989|10292016|     M|  null|     NZ|9.497324663E10|00028|      B2|  2016-04-30|    2016-05-07|     April|\n",
      "|5748526|2016|        4|      245|     464|   null|20574.0|                   1|     CA|20581.0|  26.0|    2.0|  1.0|20160430|     ACK| null|      G|      O|   null|      M|      1990|10292016|     F|  null|     NZ|9.501354793E10|00002|      B2|  2016-04-30|    2016-05-07|     April|\n",
      "+-------+----+---------+---------+--------+-------+-------+--------------------+-------+-------+------+-------+-----+--------+--------+-----+-------+-------+-------+-------+----------+--------+------+------+-------+--------------+-----+--------+------------+--------------+----------+\n",
      "only showing top 10 rows"
     ]
    }
   ],
   "source": [
    "df_new3.na.fill(value='Unclear',subset=[\"gender\"]).show(10)"
   ]
  },
  {
   "cell_type": "markdown",
   "metadata": {},
   "source": [
    "Define"
   ]
  },
  {
   "cell_type": "markdown",
   "metadata": {},
   "source": [
    "# Filling null values in gender column with 'Unclear'"
   ]
  },
  {
   "cell_type": "markdown",
   "metadata": {},
   "source": [
    "Code"
   ]
  },
  {
   "cell_type": "code",
   "execution_count": 49,
   "metadata": {},
   "outputs": [
    {
     "data": {
      "application/vnd.jupyter.widget-view+json": {
       "model_id": "7267368f5fa542a3b3117815ea28a178",
       "version_major": 2,
       "version_minor": 0
      },
      "text/plain": [
       "VBox()"
      ]
     },
     "metadata": {},
     "output_type": "display_data"
    },
    {
     "data": {
      "application/vnd.jupyter.widget-view+json": {
       "model_id": "",
       "version_major": 2,
       "version_minor": 0
      },
      "text/plain": [
       "FloatProgress(value=0.0, bar_style='info', description='Progress:', layout=Layout(height='25px', width='50%'),…"
      ]
     },
     "metadata": {},
     "output_type": "display_data"
    },
    {
     "name": "stdout",
     "output_type": "stream",
     "text": [
      "+-----+----+---------+---------+--------+-------+-------+--------------------+-------+-------+------+-------+-----+--------+--------+-----+-------+-------+-------+-------+----------+-------+------+------+-------+------+-----+--------+------------+--------------+----------+\n",
      "|cicid|year|month_num|city_code|res_code|port_id|arrdate|mode_of_arrival_code|i94addr|depdate|i94bir|i94visa|count|dtadfile|visapost|occup|entdepa|entdepd|entdepu|matflag|birth_year|dtaddto|gender|insnum|airline|admnum|fltno|visatype|arrival_date|departure_date|month_name|\n",
      "+-----+----+---------+---------+--------+-------+-------+--------------------+-------+-------+------+-------+-----+--------+--------+-----+-------+-------+-------+-------+----------+-------+------+------+-------+------+-----+--------+------------+--------------+----------+\n",
      "+-----+----+---------+---------+--------+-------+-------+--------------------+-------+-------+------+-------+-----+--------+--------+-----+-------+-------+-------+-------+----------+-------+------+------+-------+------+-----+--------+------------+--------------+----------+"
     ]
    }
   ],
   "source": [
    "df_na = df_new3.filter(df_new3.gender == 'Unclear')\n",
    "df_na.show()"
   ]
  },
  {
   "cell_type": "code",
   "execution_count": 50,
   "metadata": {},
   "outputs": [
    {
     "data": {
      "application/vnd.jupyter.widget-view+json": {
       "model_id": "166db242ef2e4c1aaebece0d02557549",
       "version_major": 2,
       "version_minor": 0
      },
      "text/plain": [
       "VBox()"
      ]
     },
     "metadata": {},
     "output_type": "display_data"
    },
    {
     "data": {
      "application/vnd.jupyter.widget-view+json": {
       "model_id": "",
       "version_major": 2,
       "version_minor": 0
      },
      "text/plain": [
       "FloatProgress(value=0.0, bar_style='info', description='Progress:', layout=Layout(height='25px', width='50%'),…"
      ]
     },
     "metadata": {},
     "output_type": "display_data"
    },
    {
     "name": "stdout",
     "output_type": "stream",
     "text": [
      "3096313"
     ]
    }
   ],
   "source": [
    "df_new3.count()"
   ]
  },
  {
   "cell_type": "code",
   "execution_count": 51,
   "metadata": {},
   "outputs": [
    {
     "data": {
      "application/vnd.jupyter.widget-view+json": {
       "model_id": "edf21ddcadbb4f7ab6ec00b3b671b18c",
       "version_major": 2,
       "version_minor": 0
      },
      "text/plain": [
       "VBox()"
      ]
     },
     "metadata": {},
     "output_type": "display_data"
    },
    {
     "data": {
      "application/vnd.jupyter.widget-view+json": {
       "model_id": "",
       "version_major": 2,
       "version_minor": 0
      },
      "text/plain": [
       "FloatProgress(value=0.0, bar_style='info', description='Progress:', layout=Layout(height='25px', width='50%'),…"
      ]
     },
     "metadata": {},
     "output_type": "display_data"
    }
   ],
   "source": [
    "df_final = df_new3.drop_duplicates()"
   ]
  },
  {
   "cell_type": "code",
   "execution_count": 52,
   "metadata": {},
   "outputs": [
    {
     "data": {
      "application/vnd.jupyter.widget-view+json": {
       "model_id": "490cae51f8dd4ca6a72ffa71200f9cca",
       "version_major": 2,
       "version_minor": 0
      },
      "text/plain": [
       "VBox()"
      ]
     },
     "metadata": {},
     "output_type": "display_data"
    },
    {
     "data": {
      "application/vnd.jupyter.widget-view+json": {
       "model_id": "",
       "version_major": 2,
       "version_minor": 0
      },
      "text/plain": [
       "FloatProgress(value=0.0, bar_style='info', description='Progress:', layout=Layout(height='25px', width='50%'),…"
      ]
     },
     "metadata": {},
     "output_type": "display_data"
    },
    {
     "name": "stdout",
     "output_type": "stream",
     "text": [
      "3096313"
     ]
    }
   ],
   "source": [
    "df_final.count()"
   ]
  },
  {
   "cell_type": "markdown",
   "metadata": {},
   "source": [
    "# Storing clean data"
   ]
  },
  {
   "cell_type": "markdown",
   "metadata": {},
   "source": [
    "Code"
   ]
  },
  {
   "cell_type": "code",
   "execution_count": 53,
   "metadata": {},
   "outputs": [
    {
     "data": {
      "application/vnd.jupyter.widget-view+json": {
       "model_id": "50fd9275cc7c48a5ad9203d794c8c3d4",
       "version_major": 2,
       "version_minor": 0
      },
      "text/plain": [
       "VBox()"
      ]
     },
     "metadata": {},
     "output_type": "display_data"
    },
    {
     "data": {
      "application/vnd.jupyter.widget-view+json": {
       "model_id": "",
       "version_major": 2,
       "version_minor": 0
      },
      "text/plain": [
       "FloatProgress(value=0.0, bar_style='info', description='Progress:', layout=Layout(height='25px', width='50%'),…"
      ]
     },
     "metadata": {},
     "output_type": "display_data"
    }
   ],
   "source": [
    "df_final.coalesce(10).write.parquet('s3://capstone-project-data-files/immigration-data/cleaned/')"
   ]
  },
  {
   "cell_type": "code",
   "execution_count": null,
   "metadata": {},
   "outputs": [],
   "source": []
  }
 ],
 "metadata": {
  "kernelspec": {
   "display_name": "PySpark",
   "language": "",
   "name": "pysparkkernel"
  },
  "language_info": {
   "codemirror_mode": {
    "name": "python",
    "version": 2
   },
   "mimetype": "text/x-python",
   "name": "pyspark",
   "pygments_lexer": "python2"
  }
 },
 "nbformat": 4,
 "nbformat_minor": 4
}
